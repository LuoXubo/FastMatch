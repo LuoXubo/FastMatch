{
 "cells": [
  {
   "cell_type": "code",
   "execution_count": 1,
   "metadata": {},
   "outputs": [],
   "source": [
    "\"\"\"\n",
    "@Description :   \n",
    "@Author      :   Xubo Luo \n",
    "@Time        :   2024/07/10 19:43:29\n",
    "\"\"\"\n",
    "\n",
    "import numpy as np\n",
    "import os\n",
    "import torch\n",
    "import tqdm\n",
    "\n",
    "from modules.xfeat import XFeat"
   ]
  },
  {
   "cell_type": "code",
   "execution_count": 2,
   "metadata": {},
   "outputs": [],
   "source": [
    "os.environ['CUDA_VISIBLE_DEVICES'] = '' #Force CPU, comment for GPU"
   ]
  },
  {
   "cell_type": "code",
   "execution_count": 4,
   "metadata": {},
   "outputs": [
    {
     "name": "stdout",
     "output_type": "stream",
     "text": [
      "loading weights from: e:\\codes\\FastMatch\\xfeat\\modules/../weights/xfeat.pt\n"
     ]
    }
   ],
   "source": [
    "xfeat = XFeat()"
   ]
  },
  {
   "cell_type": "code",
   "execution_count": 6,
   "metadata": {},
   "outputs": [
    {
     "name": "stdout",
     "output_type": "stream",
     "text": [
      "----------------\n",
      "keypoints:  torch.Size([2048, 2])\n",
      "descriptors:  torch.Size([2048, 64])\n",
      "scores:  torch.Size([2048])\n",
      "----------------\n",
      "\n"
     ]
    }
   ],
   "source": [
    "#Random input\n",
    "x = torch.randn(1,3,480,640)\n",
    "\n",
    "#Simple inference with batch = 1\n",
    "output = xfeat.detectAndCompute(x, top_k = 2048)[0]\n",
    "print(\"----------------\")\n",
    "print(\"keypoints: \", output['keypoints'].shape)\n",
    "print(\"descriptors: \", output['descriptors'].shape)\n",
    "print(\"scores: \", output['scores'].shape)\n",
    "print(\"----------------\\n\")"
   ]
  },
  {
   "cell_type": "code",
   "execution_count": 10,
   "metadata": {},
   "outputs": [
    {
     "name": "stderr",
     "output_type": "stream",
     "text": [
      "d:\\Anaconda\\envs\\torch\\lib\\site-packages\\torch\\nn\\functional.py:3613: UserWarning: Default upsampling behavior when mode=bilinear is changed to align_corners=False since 0.4.0. Please specify align_corners=True if the old behavior is desired. See the documentation of nn.Upsample for details.\n",
      "  \"See the documentation of nn.Upsample for details.\".format(mode)\n"
     ]
    },
    {
     "name": "stdout",
     "output_type": "stream",
     "text": [
      "# detected features on each batch item: [4096, 4096, 4096, 4096]\n",
      "torch.Size([4096, 2])\n"
     ]
    }
   ],
   "source": [
    "# Batched mode\n",
    "x = torch.randn(4,3,480,640)\n",
    "outputs = xfeat.detectAndCompute(x, top_k = 4096)\n",
    "print(\"# detected features on each batch item:\", [len(o['keypoints']) for o in outputs])\n",
    "print(outputs[0]['keypoints'].shape)"
   ]
  },
  {
   "cell_type": "code",
   "execution_count": null,
   "metadata": {},
   "outputs": [],
   "source": [
    "# Match two images with sparse features\n",
    "x1 = torch.randn(1,3,480,640)\n",
    "x2 = torch.randn(1,3,480,640)\n",
    "mkpts_0, mkpts_1 = xfeat.match_xfeat(x1, x2)"
   ]
  },
  {
   "cell_type": "code",
   "execution_count": null,
   "metadata": {},
   "outputs": [],
   "source": [
    "# Match two images with semi-dense approach -- batched mode with batch size 4\n",
    "x1 = torch.randn(4,3,480,640)\n",
    "x2 = torch.randn(4,3,480,640)\n",
    "matches_list = xfeat.match_xfeat_star(x1, x2)\n",
    "print(matches_list[0].shape)"
   ]
  }
 ],
 "metadata": {
  "kernelspec": {
   "display_name": "lightglue",
   "language": "python",
   "name": "python3"
  },
  "language_info": {
   "codemirror_mode": {
    "name": "ipython",
    "version": 3
   },
   "file_extension": ".py",
   "mimetype": "text/x-python",
   "name": "python",
   "nbconvert_exporter": "python",
   "pygments_lexer": "ipython3",
   "version": "3.7.10"
  }
 },
 "nbformat": 4,
 "nbformat_minor": 2
}
