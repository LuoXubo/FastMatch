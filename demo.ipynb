{
 "cells": [
  {
   "cell_type": "code",
   "execution_count": 3,
   "metadata": {},
   "outputs": [
    {
     "ename": "ModuleNotFoundError",
     "evalue": "No module named 'model'",
     "output_type": "error",
     "traceback": [
      "\u001b[1;31m---------------------------------------------------------------------------\u001b[0m",
      "\u001b[1;31mModuleNotFoundError\u001b[0m                       Traceback (most recent call last)",
      "\u001b[1;32mC:\\Users\\ADMINI~1\\AppData\\Local\\Temp/ipykernel_1816/3125331080.py\u001b[0m in \u001b[0;36m<module>\u001b[1;34m\u001b[0m\n\u001b[0;32m     10\u001b[0m \u001b[1;32mimport\u001b[0m \u001b[0mtorch\u001b[0m\u001b[1;33m\u001b[0m\u001b[1;33m\u001b[0m\u001b[0m\n\u001b[0;32m     11\u001b[0m \u001b[1;32mimport\u001b[0m \u001b[0mcv2\u001b[0m\u001b[1;33m\u001b[0m\u001b[1;33m\u001b[0m\u001b[0m\n\u001b[1;32m---> 12\u001b[1;33m \u001b[1;32mfrom\u001b[0m \u001b[0mxfeat\u001b[0m\u001b[1;33m.\u001b[0m\u001b[0mmodules\u001b[0m\u001b[1;33m.\u001b[0m\u001b[0mxfeat\u001b[0m \u001b[1;32mimport\u001b[0m \u001b[0mXFeat\u001b[0m\u001b[1;33m\u001b[0m\u001b[1;33m\u001b[0m\u001b[0m\n\u001b[0m",
      "\u001b[1;32me:\\codes\\FastMatch\\xfeat\\modules\\xfeat.py\u001b[0m in \u001b[0;36m<module>\u001b[1;34m\u001b[0m\n\u001b[0;32m     15\u001b[0m \u001b[1;31m# from modules.interpolator import InterpolateSparse2d\u001b[0m\u001b[1;33m\u001b[0m\u001b[1;33m\u001b[0m\u001b[1;33m\u001b[0m\u001b[0m\n\u001b[0;32m     16\u001b[0m \u001b[1;33m\u001b[0m\u001b[0m\n\u001b[1;32m---> 17\u001b[1;33m \u001b[1;32mfrom\u001b[0m \u001b[0mmodel\u001b[0m \u001b[1;32mimport\u001b[0m \u001b[1;33m*\u001b[0m\u001b[1;33m\u001b[0m\u001b[1;33m\u001b[0m\u001b[0m\n\u001b[0m\u001b[0;32m     18\u001b[0m \u001b[1;32mfrom\u001b[0m \u001b[0minterpolator\u001b[0m \u001b[1;32mimport\u001b[0m \u001b[0mInterpolateSparse2d\u001b[0m\u001b[1;33m\u001b[0m\u001b[1;33m\u001b[0m\u001b[0m\n\u001b[0;32m     19\u001b[0m \u001b[1;33m\u001b[0m\u001b[0m\n",
      "\u001b[1;31mModuleNotFoundError\u001b[0m: No module named 'model'"
     ]
    }
   ],
   "source": [
    "\"\"\"\n",
    "@Description :   \n",
    "@Author      :   Xubo Luo \n",
    "@Time        :   2024/07/10 20:09:58\n",
    "\"\"\"\n",
    "\n",
    "from lightglue.modules import LightGlue, SuperPoint, DISK\n",
    "from lightglue.modules.utils import load_image, rbd\n",
    "from lightglue.modules import viz2d\n",
    "import torch\n",
    "import cv2\n",
    "from xfeat.modules.xfeat import XFeat"
   ]
  },
  {
   "cell_type": "code",
   "execution_count": null,
   "metadata": {},
   "outputs": [],
   "source": [
    "device = torch.device(\"cuda\" if torch.cuda.is_available() else \"cpu\")  # 'mps', 'cpu'\n",
    "matcher = LightGlue(features=\"superpoint\").eval().to(device)\n",
    "xfeat = XFeat()"
   ]
  },
  {
   "cell_type": "code",
   "execution_count": null,
   "metadata": {},
   "outputs": [],
   "source": [
    "image0 = cv2.imread(\"../assets/ref.png\")\n",
    "image1 = cv2.imread(\"../assets/tgt.png\")\n",
    "\n",
    "# Extract keypoints and descriptors\n",
    "image0 = XFeat.parse_input(image0)\n",
    "image1 = XFeat.parse_input(image1)\n",
    "\n",
    "feat0 = XFeat.detectAndCompute(image0, top_k = 2048)[0]\n",
    "feat1 = XFeat.detectAndCompute(image1, top_k = 2048)[0]\n",
    "\n",
    "kpts0, desc0 = feat0[\"keypoints\"], feat0[\"descriptors\"]\n",
    "kpts1, desc1 = feat1[\"keypoints\"], feat1[\"descriptors\"]\n",
    "\n",
    "kpts0 = kpts0.unsqueeze(0)\n",
    "kpts1 = kpts1.unsqueeze(0)"
   ]
  },
  {
   "cell_type": "code",
   "execution_count": null,
   "metadata": {},
   "outputs": [],
   "source": [
    "matches01 = matcher({\"image0\":feat0, \"image1\":feat1})\n",
    "\n",
    "feat0, feat1, matches01 = [\n",
    "    rbd(x) for x in (feat0, feat1, matches01)\n",
    "]   # remove batch dimension\n",
    "\n",
    "kpts0, kpts1, matches = feat0[\"keypoints\"], feat1[\"keypoints\"], matches01[\"matches\"]\n",
    "m_kpts0, m_kpts1 = kpts0[matches[..., 0]], kpts1[matches[..., 1]]"
   ]
  },
  {
   "cell_type": "code",
   "execution_count": null,
   "metadata": {},
   "outputs": [],
   "source": [
    "axes = viz2d.plot_images([image0, image1])\n",
    "viz2d.plot_matches(m_kpts0, m_kpts1, color=\"lime\", lw=0.2)\n",
    "viz2d.add_text(0, f'Stop after {matches01[\"stop\"]} layers', fs=20)"
   ]
  }
 ],
 "metadata": {
  "kernelspec": {
   "display_name": "torch",
   "language": "python",
   "name": "python3"
  },
  "language_info": {
   "codemirror_mode": {
    "name": "ipython",
    "version": 3
   },
   "file_extension": ".py",
   "mimetype": "text/x-python",
   "name": "python",
   "nbconvert_exporter": "python",
   "pygments_lexer": "ipython3",
   "version": "3.7.10"
  }
 },
 "nbformat": 4,
 "nbformat_minor": 2
}
