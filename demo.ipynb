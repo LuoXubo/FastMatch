{
 "cells": [
  {
   "cell_type": "code",
   "execution_count": 1,
   "metadata": {},
   "outputs": [
    {
     "name": "stderr",
     "output_type": "stream",
     "text": [
      "/home/wuaodi/anaconda3/envs/fastmatch/lib/python3.8/site-packages/tqdm/auto.py:21: TqdmWarning: IProgress not found. Please update jupyter and ipywidgets. See https://ipywidgets.readthedocs.io/en/stable/user_install.html\n",
      "  from .autonotebook import tqdm as notebook_tqdm\n"
     ]
    }
   ],
   "source": [
    "\"\"\"\n",
    "@Description :   How to use the lightglue and xfeat\n",
    "@Author      :   Xubo Luo \n",
    "@Time        :   2024/07/10 20:09:58\n",
    "\"\"\"\n",
    "\n",
    "\n",
    "from lightglue.lightglue import LightGlue\n",
    "from lightglue.utils import rbd\n",
    "from xfeat.xfeat import XFeat\n",
    "\n",
    "import torch\n",
    "import cv2"
   ]
  },
  {
   "cell_type": "code",
   "execution_count": 2,
   "metadata": {},
   "outputs": [
    {
     "name": "stdout",
     "output_type": "stream",
     "text": [
      "loading weights from: weights/xfeat.pt\n"
     ]
    },
    {
     "name": "stderr",
     "output_type": "stream",
     "text": [
      "/home/wuaodi/anaconda3/envs/fastmatch/lib/python3.8/site-packages/torch/cuda/__init__.py:82: UserWarning: CUDA initialization: Unexpected error from cudaGetDeviceCount(). Did you run some cuda functions before calling NumCudaDevices() that might have already set an error? Error 804: forward compatibility was attempted on non supported HW (Triggered internally at  ../c10/cuda/CUDAFunctions.cpp:112.)\n",
      "  return torch._C._cuda_getDeviceCount() > 0\n",
      "/home/wuaodi/workspace/Codes/dev/FastMatch/lightglue/lightglue.py:143: UserWarning: FlashAttention is not available. For optimal speed, consider installing torch >= 2.0 or flash-attn.\n",
      "  self.inner_attn = Attention(flash)\n"
     ]
    }
   ],
   "source": [
    "device = torch.device(\"cuda\" if torch.cuda.is_available() else \"cpu\")  # 'mps', 'cpu'\n",
    "matcher = LightGlue(features=\"superpoint\").eval().to(device)\n",
    "xfeat = XFeat(weights='weights/xfeat.pt')"
   ]
  },
  {
   "cell_type": "code",
   "execution_count": 11,
   "metadata": {},
   "outputs": [
    {
     "name": "stdout",
     "output_type": "stream",
     "text": [
      "(600, 800, 3) (600, 800, 3)\n",
      "tensor([800, 600])\n"
     ]
    }
   ],
   "source": [
    "image0 = cv2.imread(\"./assets/ref.png\")\n",
    "image1 = cv2.imread(\"./assets/tgt.png\")\n",
    "img_size = torch.tensor([[image0.shape[1], image0.shape[0]]]).to(device)\n",
    "\n",
    "# Extract keypoints and descriptors\n",
    "image0 = xfeat.parse_input(image0)\n",
    "image1 = xfeat.parse_input(image1)\n",
    "\n",
    "feat0 = xfeat.detectAndCompute(image0, top_k = 2048)[0]\n",
    "feat1 = xfeat.detectAndCompute(image1, top_k = 2048)[0]\n",
    "\n",
    "feat0['keypoints'] = feat0['keypoints'].unsqueeze(0)\n",
    "feat1['keypoints'] = feat1['keypoints'].unsqueeze(0)\n",
    "feat0['descriptors'] = feat0['descriptors'].unsqueeze(0)\n",
    "feat1['descriptors'] = feat1['descriptors'].unsqueeze(0)"
   ]
  },
  {
   "cell_type": "code",
   "execution_count": 9,
   "metadata": {},
   "outputs": [
    {
     "name": "stdout",
     "output_type": "stream",
     "text": [
      "dict_keys(['keypoints', 'scores', 'descriptors', 'keypoint_scores', 'image_size'])\n"
     ]
    }
   ],
   "source": [
    "feat0['keypoint_scores'] = feat0['scores']\n",
    "feat1['keypoint_scores'] = feat1['scores']\n",
    "\n",
    "feat0['image_size'] = img_size\n",
    "feat1['image_size'] = img_size\n",
    "\n",
    "feat0['descriptors'] = torch.rand(1, 2048, 256).to(device)\n",
    "feat1['descriptors'] = torch.rand(1, 2048, 256).to(device)"
   ]
  },
  {
   "cell_type": "code",
   "execution_count": 10,
   "metadata": {},
   "outputs": [
    {
     "name": "stderr",
     "output_type": "stream",
     "text": [
      "/home/wuaodi/anaconda3/envs/fastmatch/lib/python3.8/site-packages/torch/autocast_mode.py:162: UserWarning: User provided device_type of 'cuda', but CUDA is not available. Disabling\n",
      "  warnings.warn('User provided device_type of \\'cuda\\', but CUDA is not available. Disabling')\n"
     ]
    }
   ],
   "source": [
    "matches01 = matcher({\"image0\":feat0, \"image1\":feat1})\n",
    "\n",
    "feat0, feat1, matches01 = [\n",
    "    rbd(x) for x in (feat0, feat1, matches01)\n",
    "]   # remove batch dimension\n",
    "\n",
    "kpts0, kpts1, matches = feat0[\"keypoints\"], feat1[\"keypoints\"], matches01[\"matches\"]\n",
    "m_kpts0, m_kpts1 = kpts0[matches[..., 0]], kpts1[matches[..., 1]]"
   ]
  },
  {
   "cell_type": "code",
   "execution_count": null,
   "metadata": {},
   "outputs": [],
   "source": [
    "axes = viz2d.plot_images([image0, image1])\n",
    "viz2d.plot_matches(m_kpts0, m_kpts1, color=\"lime\", lw=0.2)\n",
    "viz2d.add_text(0, f'Stop after {matches01[\"stop\"]} layers', fs=20)"
   ]
  }
 ],
 "metadata": {
  "kernelspec": {
   "display_name": "torch",
   "language": "python",
   "name": "python3"
  },
  "language_info": {
   "codemirror_mode": {
    "name": "ipython",
    "version": 3
   },
   "file_extension": ".py",
   "mimetype": "text/x-python",
   "name": "python",
   "nbconvert_exporter": "python",
   "pygments_lexer": "ipython3",
   "version": "3.8.19"
  }
 },
 "nbformat": 4,
 "nbformat_minor": 2
}
