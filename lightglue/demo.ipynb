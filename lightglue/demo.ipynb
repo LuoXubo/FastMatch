{
 "cells": [
  {
   "cell_type": "code",
   "execution_count": null,
   "metadata": {},
   "outputs": [],
   "source": [
    "\"\"\"\n",
    "@Description :   \n",
    "@Author      :   Xubo Luo \n",
    "@Time        :   2024/07/10 20:09:58\n",
    "\"\"\"\n",
    "\n",
    "from modules import LightGlue, SuperPoint, DISK\n",
    "from modules.utils import load_image, rbd\n",
    "from modules import viz2d\n",
    "import torch\n",
    "import cv2\n",
    "from modules import XFeat"
   ]
  },
  {
   "cell_type": "code",
   "execution_count": null,
   "metadata": {},
   "outputs": [],
   "source": [
    "device = torch.device(\"cuda\" if torch.cuda.is_available() else \"cpu\")  # 'mps', 'cpu'\n",
    "matcher = LightGlue(features=\"superpoint\").eval().to(device)\n",
    "xfeat = XFeat()"
   ]
  },
  {
   "cell_type": "code",
   "execution_count": null,
   "metadata": {},
   "outputs": [],
   "source": [
    "image0 = cv2.imread(\"../assets/ref.png\")\n",
    "image1 = cv2.imread(\"../assets/tgt.png\")\n",
    "\n",
    "# Extract keypoints and descriptors\n",
    "image0 = XFeat.parse_input(image0)\n",
    "image1 = XFeat.parse_input(image1)\n",
    "\n",
    "feat0 = XFeat.detectAndCompute(image0, top_k = 2048)[0]\n",
    "feat1 = XFeat.detectAndCompute(image1, top_k = 2048)[0]\n",
    "\n",
    "kpts0, desc0 = feat0[\"keypoints\"], feat0[\"descriptors\"]\n",
    "kpts1, desc1 = feat1[\"keypoints\"], feat1[\"descriptors\"]\n",
    "\n",
    "kpts0 = kpts0.unsqueeze(0)\n",
    "kpts1 = kpts1.unsqueeze(0)"
   ]
  },
  {
   "cell_type": "code",
   "execution_count": null,
   "metadata": {},
   "outputs": [],
   "source": [
    "matches01 = matcher({\"image0\":feat0, \"image1\":feat1})\n",
    "\n",
    "feat0, feat1, matches01 = [\n",
    "    rbd(x) for x in (feat0, feat1, matches01)\n",
    "]   # remove batch dimension\n",
    "\n",
    "kpts0, kpts1, matches = feat0[\"keypoints\"], feat1[\"keypoints\"], matches01[\"matches\"]\n",
    "m_kpts0, m_kpts1 = kpts0[matches[..., 0]], kpts1[matches[..., 1]]"
   ]
  },
  {
   "cell_type": "code",
   "execution_count": null,
   "metadata": {},
   "outputs": [],
   "source": [
    "axes = viz2d.plot_images([image0, image1])\n",
    "viz2d.plot_matches(m_kpts0, m_kpts1, color=\"lime\", lw=0.2)\n",
    "viz2d.add_text(0, f'Stop after {matches01[\"stop\"]} layers', fs=20)"
   ]
  }
 ],
 "metadata": {
  "language_info": {
   "name": "python"
  }
 },
 "nbformat": 4,
 "nbformat_minor": 2
}
